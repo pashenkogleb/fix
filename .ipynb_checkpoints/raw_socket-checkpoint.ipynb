{
 "cells": [
  {
   "cell_type": "code",
   "execution_count": 11,
   "metadata": {},
   "outputs": [],
   "source": [
    "import myfix"
   ]
  },
  {
   "cell_type": "code",
   "execution_count": 1,
   "metadata": {},
   "outputs": [],
   "source": [
    "import socket"
   ]
  },
  {
   "cell_type": "code",
   "execution_count": 4,
   "metadata": {},
   "outputs": [],
   "source": [
    "clientSocket = socket.socket(socket.AF_INET, socket.SOCK_DGRAM);"
   ]
  },
  {
   "cell_type": "code",
   "execution_count": 5,
   "metadata": {},
   "outputs": [],
   "source": [
    "clientSocket.connect((\"91.208.232.200\",9090));"
   ]
  },
  {
   "cell_type": "code",
   "execution_count": 6,
   "metadata": {},
   "outputs": [],
   "source": [
    "data = \"8=FIX.4.4\u00019=89\u000135=A\u000134=246\u000149=MU9051500001\u000152=20220107-19:13:04.019\u000156=IFIX-EQ-UAT\u000198=0\u0001108=60\u0001554=7020\u000110=181\u0001\""
   ]
  },
  {
   "cell_type": "code",
   "execution_count": 7,
   "metadata": {},
   "outputs": [
    {
     "data": {
      "text/plain": [
       "111"
      ]
     },
     "execution_count": 7,
     "metadata": {},
     "output_type": "execute_result"
    }
   ],
   "source": [
    "clientSocket.send(data.encode())"
   ]
  },
  {
   "cell_type": "code",
   "execution_count": 12,
   "metadata": {},
   "outputs": [
    {
     "data": {
      "text/html": [
       "<div>\n",
       "<style scoped>\n",
       "    .dataframe tbody tr th:only-of-type {\n",
       "        vertical-align: middle;\n",
       "    }\n",
       "\n",
       "    .dataframe tbody tr th {\n",
       "        vertical-align: top;\n",
       "    }\n",
       "\n",
       "    .dataframe thead th {\n",
       "        text-align: right;\n",
       "    }\n",
       "</style>\n",
       "<table border=\"1\" class=\"dataframe\">\n",
       "  <thead>\n",
       "    <tr style=\"text-align: right;\">\n",
       "      <th></th>\n",
       "      <th>key</th>\n",
       "      <th>key_str</th>\n",
       "      <th>val</th>\n",
       "      <th>group_id</th>\n",
       "      <th>msg_part</th>\n",
       "      <th>msgtype</th>\n",
       "      <th>msg_time</th>\n",
       "      <th>sender</th>\n",
       "      <th>name</th>\n",
       "      <th>msgcat</th>\n",
       "    </tr>\n",
       "  </thead>\n",
       "  <tbody>\n",
       "    <tr>\n",
       "      <th>0</th>\n",
       "      <td>8</td>\n",
       "      <td>BeginString</td>\n",
       "      <td>FIX.4.4</td>\n",
       "      <td>NaN</td>\n",
       "      <td>header</td>\n",
       "      <td>A</td>\n",
       "      <td>2022-01-07 19:13:04.019</td>\n",
       "      <td>MU9051500001</td>\n",
       "      <td>Logon</td>\n",
       "      <td>admin</td>\n",
       "    </tr>\n",
       "    <tr>\n",
       "      <th>1</th>\n",
       "      <td>9</td>\n",
       "      <td>BodyLength</td>\n",
       "      <td>89</td>\n",
       "      <td>NaN</td>\n",
       "      <td>header</td>\n",
       "      <td>A</td>\n",
       "      <td>2022-01-07 19:13:04.019</td>\n",
       "      <td>MU9051500001</td>\n",
       "      <td>Logon</td>\n",
       "      <td>admin</td>\n",
       "    </tr>\n",
       "    <tr>\n",
       "      <th>2</th>\n",
       "      <td>35</td>\n",
       "      <td>MsgType</td>\n",
       "      <td>A</td>\n",
       "      <td>NaN</td>\n",
       "      <td>header</td>\n",
       "      <td>A</td>\n",
       "      <td>2022-01-07 19:13:04.019</td>\n",
       "      <td>MU9051500001</td>\n",
       "      <td>Logon</td>\n",
       "      <td>admin</td>\n",
       "    </tr>\n",
       "    <tr>\n",
       "      <th>3</th>\n",
       "      <td>34</td>\n",
       "      <td>MsgSeqNum</td>\n",
       "      <td>246</td>\n",
       "      <td>NaN</td>\n",
       "      <td>header</td>\n",
       "      <td>A</td>\n",
       "      <td>2022-01-07 19:13:04.019</td>\n",
       "      <td>MU9051500001</td>\n",
       "      <td>Logon</td>\n",
       "      <td>admin</td>\n",
       "    </tr>\n",
       "    <tr>\n",
       "      <th>4</th>\n",
       "      <td>49</td>\n",
       "      <td>SenderCompID</td>\n",
       "      <td>MU9051500001</td>\n",
       "      <td>NaN</td>\n",
       "      <td>header</td>\n",
       "      <td>A</td>\n",
       "      <td>2022-01-07 19:13:04.019</td>\n",
       "      <td>MU9051500001</td>\n",
       "      <td>Logon</td>\n",
       "      <td>admin</td>\n",
       "    </tr>\n",
       "    <tr>\n",
       "      <th>5</th>\n",
       "      <td>52</td>\n",
       "      <td>SendingTime</td>\n",
       "      <td>20220107-19:13:04.019</td>\n",
       "      <td>NaN</td>\n",
       "      <td>header</td>\n",
       "      <td>A</td>\n",
       "      <td>2022-01-07 19:13:04.019</td>\n",
       "      <td>MU9051500001</td>\n",
       "      <td>Logon</td>\n",
       "      <td>admin</td>\n",
       "    </tr>\n",
       "    <tr>\n",
       "      <th>6</th>\n",
       "      <td>56</td>\n",
       "      <td>TargetCompID</td>\n",
       "      <td>IFIX-EQ-UAT</td>\n",
       "      <td>NaN</td>\n",
       "      <td>header</td>\n",
       "      <td>A</td>\n",
       "      <td>2022-01-07 19:13:04.019</td>\n",
       "      <td>MU9051500001</td>\n",
       "      <td>Logon</td>\n",
       "      <td>admin</td>\n",
       "    </tr>\n",
       "    <tr>\n",
       "      <th>7</th>\n",
       "      <td>98</td>\n",
       "      <td>EncryptMethod</td>\n",
       "      <td>0</td>\n",
       "      <td>NaN</td>\n",
       "      <td>body</td>\n",
       "      <td>A</td>\n",
       "      <td>2022-01-07 19:13:04.019</td>\n",
       "      <td>MU9051500001</td>\n",
       "      <td>Logon</td>\n",
       "      <td>admin</td>\n",
       "    </tr>\n",
       "    <tr>\n",
       "      <th>8</th>\n",
       "      <td>108</td>\n",
       "      <td>HeartBtInt</td>\n",
       "      <td>60</td>\n",
       "      <td>NaN</td>\n",
       "      <td>body</td>\n",
       "      <td>A</td>\n",
       "      <td>2022-01-07 19:13:04.019</td>\n",
       "      <td>MU9051500001</td>\n",
       "      <td>Logon</td>\n",
       "      <td>admin</td>\n",
       "    </tr>\n",
       "    <tr>\n",
       "      <th>9</th>\n",
       "      <td>554</td>\n",
       "      <td>Password</td>\n",
       "      <td>7020</td>\n",
       "      <td>NaN</td>\n",
       "      <td>body</td>\n",
       "      <td>A</td>\n",
       "      <td>2022-01-07 19:13:04.019</td>\n",
       "      <td>MU9051500001</td>\n",
       "      <td>Logon</td>\n",
       "      <td>admin</td>\n",
       "    </tr>\n",
       "    <tr>\n",
       "      <th>10</th>\n",
       "      <td>10</td>\n",
       "      <td>CheckSum</td>\n",
       "      <td>181</td>\n",
       "      <td>NaN</td>\n",
       "      <td>trailer</td>\n",
       "      <td>A</td>\n",
       "      <td>2022-01-07 19:13:04.019</td>\n",
       "      <td>MU9051500001</td>\n",
       "      <td>Logon</td>\n",
       "      <td>admin</td>\n",
       "    </tr>\n",
       "  </tbody>\n",
       "</table>\n",
       "</div>"
      ],
      "text/plain": [
       "    key        key_str                    val  group_id msg_part msgtype  \\\n",
       "0     8    BeginString                FIX.4.4       NaN   header       A   \n",
       "1     9     BodyLength                     89       NaN   header       A   \n",
       "2    35        MsgType                      A       NaN   header       A   \n",
       "3    34      MsgSeqNum                    246       NaN   header       A   \n",
       "4    49   SenderCompID           MU9051500001       NaN   header       A   \n",
       "5    52    SendingTime  20220107-19:13:04.019       NaN   header       A   \n",
       "6    56   TargetCompID            IFIX-EQ-UAT       NaN   header       A   \n",
       "7    98  EncryptMethod                      0       NaN     body       A   \n",
       "8   108     HeartBtInt                     60       NaN     body       A   \n",
       "9   554       Password                   7020       NaN     body       A   \n",
       "10   10       CheckSum                    181       NaN  trailer       A   \n",
       "\n",
       "                  msg_time        sender   name msgcat  \n",
       "0  2022-01-07 19:13:04.019  MU9051500001  Logon  admin  \n",
       "1  2022-01-07 19:13:04.019  MU9051500001  Logon  admin  \n",
       "2  2022-01-07 19:13:04.019  MU9051500001  Logon  admin  \n",
       "3  2022-01-07 19:13:04.019  MU9051500001  Logon  admin  \n",
       "4  2022-01-07 19:13:04.019  MU9051500001  Logon  admin  \n",
       "5  2022-01-07 19:13:04.019  MU9051500001  Logon  admin  \n",
       "6  2022-01-07 19:13:04.019  MU9051500001  Logon  admin  \n",
       "7  2022-01-07 19:13:04.019  MU9051500001  Logon  admin  \n",
       "8  2022-01-07 19:13:04.019  MU9051500001  Logon  admin  \n",
       "9  2022-01-07 19:13:04.019  MU9051500001  Logon  admin  \n",
       "10 2022-01-07 19:13:04.019  MU9051500001  Logon  admin  "
      ]
     },
     "execution_count": 12,
     "metadata": {},
     "output_type": "execute_result"
    }
   ],
   "source": [
    "myfix.parse_msg(data)"
   ]
  },
  {
   "cell_type": "code",
   "execution_count": 10,
   "metadata": {},
   "outputs": [
    {
     "ename": "KeyboardInterrupt",
     "evalue": "",
     "output_type": "error",
     "traceback": [
      "\u001b[0;31m---------------------------------------------------------------------------\u001b[0m",
      "\u001b[0;31mKeyboardInterrupt\u001b[0m                         Traceback (most recent call last)",
      "\u001b[0;32m<ipython-input-10-ef58925b5cd7>\u001b[0m in \u001b[0;36m<module>\u001b[0;34m\u001b[0m\n\u001b[0;32m----> 1\u001b[0;31m \u001b[0mclientSocket\u001b[0m\u001b[0;34m.\u001b[0m\u001b[0mrecv\u001b[0m\u001b[0;34m(\u001b[0m\u001b[0;36m1024\u001b[0m\u001b[0;34m)\u001b[0m\u001b[0;34m\u001b[0m\u001b[0;34m\u001b[0m\u001b[0m\n\u001b[0m",
      "\u001b[0;31mKeyboardInterrupt\u001b[0m: "
     ]
    }
   ],
   "source": [
    "clientSocket.recv(1024)"
   ]
  }
 ],
 "metadata": {
  "kernelspec": {
   "display_name": "Python 3",
   "language": "python",
   "name": "python3"
  },
  "language_info": {
   "codemirror_mode": {
    "name": "ipython",
    "version": 3
   },
   "file_extension": ".py",
   "mimetype": "text/x-python",
   "name": "python",
   "nbconvert_exporter": "python",
   "pygments_lexer": "ipython3",
   "version": "3.8.10"
  }
 },
 "nbformat": 4,
 "nbformat_minor": 4
}
